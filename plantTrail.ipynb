{
 "cells": [
  {
   "cell_type": "code",
   "execution_count": null,
   "metadata": {},
   "outputs": [],
   "source": [
    "# libraries fo dataset preparation\n",
    "import os\n",
    "import random\n",
    "import pandas as pd\n",
    "import numpy as np\n",
    "from IPython.display import Image \n",
    "\n",
    "from sklearn.model_selection import train_test_split\n",
    "from sklearn.metrics import accuracy_score\n",
    "\n",
    "# TensorFlow\n",
    "import tensorflow as tf\n",
    "\n",
    "# keras_cv for pretrained model usage\n",
    "import keras_cv"
   ]
  },
  {
   "cell_type": "code",
   "execution_count": null,
   "metadata": {},
   "outputs": [],
   "source": [
    "# labels and images' paths preparation\n",
    "dataset_root = '/kaggle/input/plants-type-datasets/split_ttv_dataset_type_of_plants'\n",
    "labels = []\n",
    "images_path = []\n",
    "\n",
    "# Iterate through the subdirectories (plant categories)\n",
    "for dataset in os.listdir(dataset_root):\n",
    "    for plant_category in os.listdir(os.path.join(dataset_root, dataset)):\n",
    "        if os.path.isdir(os.path.join(dataset_root, dataset, plant_category)):\n",
    "            images = os.listdir(os.path.join(dataset_root, dataset, plant_category))\n",
    "\n",
    "            # Create a data frame with image_path and label\n",
    "            for image in images:\n",
    "                image_path = os.path.join(dataset_root, dataset, plant_category, image)\n",
    "                images_path.append(image_path)\n",
    "                labels.append(plant_category)"
   ]
  },
  {
   "cell_type": "code",
   "execution_count": null,
   "metadata": {},
   "outputs": [],
   "source": [
    "# label and image's path veryfication\n",
    "i = random.randint(0, 30000)\n",
    "print(f'number of labels: {len(labels)} and images {len(images_path)}\\n')\n",
    "print('label of random plant: ', labels[i])\n",
    "print('path to random image: ', images_path[i], '\\n')\n",
    "Image(images_path[i])"
   ]
  }
 ],
 "metadata": {
  "language_info": {
   "name": "python"
  }
 },
 "nbformat": 4,
 "nbformat_minor": 2
}
